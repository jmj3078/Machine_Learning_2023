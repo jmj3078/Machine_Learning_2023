{
  "nbformat": 4,
  "nbformat_minor": 0,
  "metadata": {
    "colab": {
      "provenance": []
    },
    "kernelspec": {
      "name": "python3",
      "display_name": "Python 3"
    },
    "language_info": {
      "name": "python"
    }
  },
  "cells": [
    {
      "cell_type": "code",
      "execution_count": 11,
      "metadata": {
        "colab": {
          "base_uri": "https://localhost:8080/"
        },
        "id": "kKC-BYcsdeXh",
        "outputId": "d66d422a-d757-4f6c-c61c-96b2e1f90136"
      },
      "outputs": [
        {
          "output_type": "stream",
          "name": "stdout",
          "text": [
            "  % Total    % Received % Xferd  Average Speed   Time    Time     Time  Current\n",
            "                                 Dload  Upload   Total   Spent    Left  Speed\n",
            "100 1760k  100 1760k    0     0   325k      0  0:00:05  0:00:05 --:--:--  423k\n",
            "3672\n",
            "1500\n"
          ]
        }
      ],
      "source": [
        "! curl http://nlp.cs.aueb.gr/software_and_datasets/Enron-Spam/preprocessed/enron1.tar.gz --output enron1.tar.gz\n",
        "! tar -xf enron1.tar.gz enron1 # x: 파일 압축 해제 / f: 압축될 파일명 지정\n",
        "! ls enron1/ham/*.txt | wc -l # print the number of non-spam emails\n",
        "! ls enron1/spam/*.txt | wc -l # print the number of spam emails"
      ]
    },
    {
      "cell_type": "code",
      "source": [
        "import glob, os\n",
        "\n",
        "emails, labels = [], []\n",
        "parition = 0\n",
        "\n",
        "file_path = 'enron1/spam'\n",
        "\n",
        "for fname in glob.glob(os.path.join(file_path, '*.txt')):\n",
        "    with open(fname, 'r', encoding='ISO-8859-1') as f: # [!important] check encoding format\n",
        "        emails.append(f.read())\n",
        "        labels.append(1)\n",
        "\n",
        "file_path = 'enron1/ham'\n",
        "for fname in glob.glob(os.path.join(file_path, '*.txt')):\n",
        "    with open(fname, 'r', encoding='ISO-8859-1') as f: \n",
        "        emails.append(f.read())\n",
        "        labels.append(0) "
      ],
      "metadata": {
        "id": "8B4uR5dSeLZ4"
      },
      "execution_count": 12,
      "outputs": []
    },
    {
      "cell_type": "code",
      "source": [
        "print(len(emails))\n",
        "print(len(labels))"
      ],
      "metadata": {
        "colab": {
          "base_uri": "https://localhost:8080/"
        },
        "id": "0Wt9WsMVefDD",
        "outputId": "67b73fd7-01b4-40d4-f2fb-34cea0ffde18"
      },
      "execution_count": 13,
      "outputs": [
        {
          "output_type": "stream",
          "name": "stdout",
          "text": [
            "5172\n",
            "5172\n"
          ]
        }
      ]
    },
    {
      "cell_type": "code",
      "source": [
        "import nltk\n",
        "nltk.download('names')\n",
        "nltk.download('wordnet')"
      ],
      "metadata": {
        "colab": {
          "base_uri": "https://localhost:8080/"
        },
        "id": "ZaIjAMQ1KhfS",
        "outputId": "dfb48915-5717-4f00-8d34-6f47a0c01348"
      },
      "execution_count": 18,
      "outputs": [
        {
          "output_type": "stream",
          "name": "stderr",
          "text": [
            "[nltk_data] Downloading package names to /root/nltk_data...\n",
            "[nltk_data]   Package names is already up-to-date!\n",
            "[nltk_data] Downloading package wordnet to /root/nltk_data...\n"
          ]
        },
        {
          "output_type": "execute_result",
          "data": {
            "text/plain": [
              "True"
            ]
          },
          "metadata": {},
          "execution_count": 18
        }
      ]
    },
    {
      "cell_type": "code",
      "source": [
        "# remove number and punctuation \n",
        "def letters_only(word):\n",
        "    return word.isalpha()\n",
        "\n",
        "# remove name entity\n",
        "from nltk.corpus import names\n",
        "all_names = set(names.words())\n",
        "\n",
        "# lemmaization\n",
        "from nltk.stem import WordNetLemmatizer\n",
        "lemmatizer = WordNetLemmatizer()\n",
        "\n",
        "# put all together to clean texts\n",
        "def clean_text(doc):\n",
        "    cleaned_doc = []\n",
        "    for word in doc.split(' '): # split doc. by blank (' ')\n",
        "        word = word.lower() # ABD -> abd\n",
        "        if letters_only(word) and word not in all_names and len(word) > 2: # remove number and punc. and name entity\n",
        "            cleaned_doc.append(lemmatizer.lemmatize(word))\n",
        "            \n",
        "    return ' '.join(cleaned_doc) \n",
        "\n",
        "cleaned_emails = [clean_text(doc) for doc in emails]"
      ],
      "metadata": {
        "id": "wL0ZFCFogLxu"
      },
      "execution_count": 19,
      "outputs": []
    },
    {
      "cell_type": "code",
      "source": [
        "from sklearn.model_selection import train_test_split\n",
        "from sklearn.feature_extraction.text import CountVectorizer\n",
        "\n",
        "X_train, X_test, Y_train, Y_test = train_test_split(cleaned_emails, labels, test_size=0.33, random_state=1213)\n",
        "\n",
        "cv = CountVectorizer(stop_words='english', max_features=500)\n",
        "term_docs_train = cv.fit_transform(X_train) # get counter vector for X_train\n",
        "term_docs_test = cv.transform(X_test) # get counter vector for X_test"
      ],
      "metadata": {
        "id": "BSXbErJagYeC"
      },
      "execution_count": 20,
      "outputs": []
    },
    {
      "cell_type": "code",
      "source": [
        "from sklearn.naive_bayes import MultinomialNB\n",
        "clf = MultinomialNB(alpha=1.0, fit_prior = True)\n",
        "clf.fit(term_docs_train, Y_train)\n",
        "\n",
        "prediction_prob = clf.predict_proba(term_docs_test)\n",
        "prediction = clf.predict(term_docs_test)\n",
        "print(prediction_prob[1:10])\n",
        "print(prediction[1:10])"
      ],
      "metadata": {
        "colab": {
          "base_uri": "https://localhost:8080/"
        },
        "id": "SzyPP10hgfmn",
        "outputId": "9ffe4b09-a64a-4555-ba5a-15ddf3dc676c"
      },
      "execution_count": 21,
      "outputs": [
        {
          "output_type": "stream",
          "name": "stdout",
          "text": [
            "[[9.99985009e-001 1.49906292e-005]\n",
            " [7.03896104e-001 2.96103896e-001]\n",
            " [1.00000000e+000 7.03505109e-016]\n",
            " [9.74275079e-006 9.99990257e-001]\n",
            " [1.00000000e+000 4.65092762e-020]\n",
            " [8.09527122e-003 9.91904729e-001]\n",
            " [7.49718875e-009 9.99999993e-001]\n",
            " [1.00000000e+000 5.71723581e-306]\n",
            " [9.99999999e-001 1.24533161e-009]]\n",
            "[0 0 0 1 0 1 1 0 0]\n"
          ]
        }
      ]
    },
    {
      "cell_type": "code",
      "source": [
        "from sklearn.metrics import precision_score, recall_score, f1_score, confusion_matrix\n",
        "import pandas as pd\n",
        "\n",
        "confusion_matrix(Y_test, prediction, labels=[0, 1])"
      ],
      "metadata": {
        "colab": {
          "base_uri": "https://localhost:8080/"
        },
        "id": "O1KTSOIGgkdv",
        "outputId": "512bb674-05e3-4db8-97e3-4ec6f6e40a32"
      },
      "execution_count": 22,
      "outputs": [
        {
          "output_type": "execute_result",
          "data": {
            "text/plain": [
              "array([[1122,  111],\n",
              "       [  71,  403]])"
            ]
          },
          "metadata": {},
          "execution_count": 22
        }
      ]
    },
    {
      "cell_type": "code",
      "source": [
        "accuracy = clf.score(term_docs_test, Y_test)\n",
        "print(accuracy)"
      ],
      "metadata": {
        "colab": {
          "base_uri": "https://localhost:8080/"
        },
        "id": "xn5PcORJhmkq",
        "outputId": "b1afd524-1ed3-4348-b6bd-16a3b728815f"
      },
      "execution_count": 23,
      "outputs": [
        {
          "output_type": "stream",
          "name": "stdout",
          "text": [
            "0.8933801991798477\n"
          ]
        }
      ]
    },
    {
      "cell_type": "code",
      "source": [
        "print(precision_score(Y_test, prediction, pos_label=1))\n",
        "print(recall_score(Y_test, prediction, pos_label=1))\n",
        "print(f1_score(Y_test, prediction, pos_label=1))\n",
        "print(f1_score(Y_test, prediction, pos_label=0))\n",
        "# 다양한 지표들을 통한 학습\n",
        "# 간단히 함수로 계산 가능"
      ],
      "metadata": {
        "colab": {
          "base_uri": "https://localhost:8080/"
        },
        "id": "7ifOeUyLhsMP",
        "outputId": "80a37b16-8b71-4c42-fe56-1854153b8ab6"
      },
      "execution_count": 24,
      "outputs": [
        {
          "output_type": "stream",
          "name": "stdout",
          "text": [
            "0.7840466926070039\n",
            "0.8502109704641351\n",
            "0.8157894736842106\n",
            "0.9249793899422918\n"
          ]
        }
      ]
    },
    {
      "cell_type": "code",
      "source": [
        "from sklearn.metrics import classification_report\n",
        "report = classification_report(Y_test, prediction)\n",
        "print(report)"
      ],
      "metadata": {
        "colab": {
          "base_uri": "https://localhost:8080/"
        },
        "id": "S4Y99-0Bh4J8",
        "outputId": "3fa5358f-a6a8-4bf2-ebf3-ec2cb8a15946"
      },
      "execution_count": 25,
      "outputs": [
        {
          "output_type": "stream",
          "name": "stdout",
          "text": [
            "              precision    recall  f1-score   support\n",
            "\n",
            "           0       0.94      0.91      0.92      1233\n",
            "           1       0.78      0.85      0.82       474\n",
            "\n",
            "    accuracy                           0.89      1707\n",
            "   macro avg       0.86      0.88      0.87      1707\n",
            "weighted avg       0.90      0.89      0.89      1707\n",
            "\n"
          ]
        }
      ]
    },
    {
      "cell_type": "code",
      "source": [
        "import numpy as np\n",
        "# ROC Curve : 임계치에 따른 Sensitivity, Specificity값 계산\n",
        "\n",
        "pos_prob = prediction_prob[:, 1]\n",
        "thresholds = np.arange(0.0, 1.2, 0.1)\n",
        "true_pos, false_pos = [0]*len(thresholds), [0]*len(thresholds)"
      ],
      "metadata": {
        "id": "HxvlN_8Fj1mM"
      },
      "execution_count": 26,
      "outputs": []
    },
    {
      "cell_type": "code",
      "source": [
        "for pred, y in zip(pos_prob, Y_test):\n",
        "    for i, threshold in enumerate(thresholds):\n",
        "        if pred >= threshold:\n",
        "            if y == 1:\n",
        "                true_pos[i] += 1\n",
        "            else :\n",
        "                false_pos[i] += 1\n",
        "        else:\n",
        "            break"
      ],
      "metadata": {
        "id": "szRQh5RLkFYd"
      },
      "execution_count": 27,
      "outputs": []
    },
    {
      "cell_type": "code",
      "source": [
        "true_pos_rate = [tp / np.count_nonzero(Y_test) for tp in true_pos]\n",
        "false_pos_rate = [fp / (len(Y_test)-np.count_nonzero(Y_test)) for fp in false_pos]\n",
        "print(true_pos_rate)\n",
        "print(false_pos_rate)"
      ],
      "metadata": {
        "colab": {
          "base_uri": "https://localhost:8080/"
        },
        "id": "CITVsnkKkY9P",
        "outputId": "3d000762-5a54-42c0-fc9a-f654ee64f151"
      },
      "execution_count": 28,
      "outputs": [
        {
          "output_type": "stream",
          "name": "stdout",
          "text": [
            "[1.0, 0.9831223628691983, 0.9662447257383966, 0.8881856540084389, 0.8755274261603375, 0.8502109704641351, 0.8354430379746836, 0.8227848101265823, 0.7827004219409283, 0.7426160337552743, 0.2088607594936709, 0.0]\n",
            "[1.0, 0.10867802108678021, 0.10462287104622871, 0.09245742092457421, 0.09164639091646391, 0.09002433090024331, 0.08759124087591241, 0.08434712084347121, 0.08110300081103, 0.07948094079480941, 0.014598540145985401, 0.0]\n"
          ]
        }
      ]
    },
    {
      "cell_type": "code",
      "source": [
        "import matplotlib.pyplot as plt\n",
        "plt.figure()\n",
        "lw = 2\n",
        "plt.plot(false_pos_rate, true_pos_rate, color='darkorange', lw=lw)\n",
        "plt.plot([0, 1],[0, 1], color='navy', lw=lw, linestyle='--')\n",
        "plt.xlim([0.0, 1.0])\n",
        "plt.ylim([0.0, 1.05])\n",
        "\n",
        "plt.xlabel('FP rate')\n",
        "plt.ylabel('TP rate')\n",
        "plt.title('Receiver Operating Characteristic')\n",
        "plt.legend(loc='lower right')\n",
        "plt.show()"
      ],
      "metadata": {
        "colab": {
          "base_uri": "https://localhost:8080/",
          "height": 333
        },
        "id": "5Yi7Nw_FkYFz",
        "outputId": "87398b15-b73a-45dc-f176-9260150cb7ee"
      },
      "execution_count": 29,
      "outputs": [
        {
          "output_type": "stream",
          "name": "stderr",
          "text": [
            "WARNING:matplotlib.legend:No artists with labels found to put in legend.  Note that artists whose label start with an underscore are ignored when legend() is called with no argument.\n"
          ]
        },
        {
          "output_type": "display_data",
          "data": {
            "text/plain": [
              "<Figure size 432x288 with 1 Axes>"
            ],
            "image/png": "[encoded data removed]"
          },
          "metadata": {
            "needs_background": "light"
          }
        }
      ]
    },
    {
      "cell_type": "code",
      "source": [
        "from sklearn.metrics import roc_auc_score\n",
        "roc_auc_score(Y_test, pos_prob) #적분값, AUC score이 1에 가까울 수록 좋은 성능"
      ],
      "metadata": {
        "colab": {
          "base_uri": "https://localhost:8080/"
        },
        "id": "AwfwwMJEllop",
        "outputId": "24f1cf5e-2084-4aa5-81f3-57de03927594"
      },
      "execution_count": 30,
      "outputs": [
        {
          "output_type": "execute_result",
          "data": {
            "text/plain": [
              "0.9488794439824653"
            ]
          },
          "metadata": {},
          "execution_count": 30
        }
      ]
    },
    {
      "cell_type": "code",
      "source": [
        "# K_fold Cross Validation\n",
        "from sklearn.model_selection import StratifiedKFold\n",
        "k = 5\n",
        "k_fold = StratifiedKFold(n_splits=k)\n",
        "\n",
        "cleaned_emails_arr = np.array(cleaned_emails)\n",
        "labels_arr = np.array(labels)\n",
        "\n",
        "for trn_idx, test_idx in k_fold.split(cleaned_emails, labels):\n",
        "\n",
        "    cv_train = CountVectorizer(stop_words='english', max_features=500)\n",
        "    train_X = cleaned_emails_arr[trn_idx]\n",
        "    train_Y = labels_arr[trn_idx]\n",
        "    term_docs_train = cv_train.fit_transform(train_X)\n",
        "    \n",
        "    test_X = cleaned_emails_arr[test_idx]\n",
        "    test_Y = labels_arr[test_idx]\n",
        "    term_docs_test = cv_train.transform(test_X)\n",
        "\n",
        "    clf = MultinomialNB(alpha=1.0)\n",
        "    clf.fit(term_docs_train, train_Y)\n",
        "\n",
        "    prediction = clf.predict(term_docs_test)\n",
        "    print(classification_report(test_Y, prediction))\n",
        "\n",
        "# 출력된 값들을 평균내어 수치를 계산.\n",
        "# K-fold는 k=5 또는 k=10이 가장 적당(variance/bias trade off 개념)"
      ],
      "metadata": {
        "colab": {
          "base_uri": "https://localhost:8080/"
        },
        "id": "mHe83yg7mZCo",
        "outputId": "e082a5c7-5a77-43d6-dd95-b975d46a580b"
      },
      "execution_count": 31,
      "outputs": [
        {
          "output_type": "stream",
          "name": "stdout",
          "text": [
            "              precision    recall  f1-score   support\n",
            "\n",
            "           0       0.92      0.91      0.92       735\n",
            "           1       0.79      0.81      0.80       300\n",
            "\n",
            "    accuracy                           0.88      1035\n",
            "   macro avg       0.86      0.86      0.86      1035\n",
            "weighted avg       0.89      0.88      0.88      1035\n",
            "\n",
            "              precision    recall  f1-score   support\n",
            "\n",
            "           0       0.94      0.92      0.93       735\n",
            "           1       0.81      0.87      0.84       300\n",
            "\n",
            "    accuracy                           0.90      1035\n",
            "   macro avg       0.88      0.89      0.88      1035\n",
            "weighted avg       0.91      0.90      0.90      1035\n",
            "\n",
            "              precision    recall  f1-score   support\n",
            "\n",
            "           0       0.94      0.93      0.93       734\n",
            "           1       0.83      0.86      0.84       300\n",
            "\n",
            "    accuracy                           0.91      1034\n",
            "   macro avg       0.88      0.89      0.89      1034\n",
            "weighted avg       0.91      0.91      0.91      1034\n",
            "\n",
            "              precision    recall  f1-score   support\n",
            "\n",
            "           0       0.94      0.91      0.92       734\n",
            "           1       0.79      0.86      0.83       300\n",
            "\n",
            "    accuracy                           0.89      1034\n",
            "   macro avg       0.87      0.88      0.88      1034\n",
            "weighted avg       0.90      0.89      0.90      1034\n",
            "\n",
            "              precision    recall  f1-score   support\n",
            "\n",
            "           0       0.95      0.93      0.94       734\n",
            "           1       0.84      0.89      0.87       300\n",
            "\n",
            "    accuracy                           0.92      1034\n",
            "   macro avg       0.90      0.91      0.91      1034\n",
            "weighted avg       0.92      0.92      0.92      1034\n",
            "\n"
          ]
        }
      ]
    },
    {
      "cell_type": "code",
      "source": [
        "k = 10\n",
        "k_fold = StratifiedKFold(n_splits=k)\n",
        "max_features_option=[2000,4000,8000]\n",
        "smoothing_factor_option=[0.5, 1.0, 1.5, 2.0]\n",
        "fit_prior_option = [True, False]\n",
        "auc_record = {}"
      ],
      "metadata": {
        "id": "qMwzTjAVmnqc"
      },
      "execution_count": 34,
      "outputs": []
    },
    {
      "cell_type": "code",
      "source": [
        "for train_indices, test_indices in k_fold.split(cleaned_emails, labels):\n",
        "    X_train, X_test = cleaned_emails_arr[train_indices], cleaned_emails_arr[test_indices]\n",
        "    Y_train, Y_test = labels_arr[train_indices], labels_arr[test_indices]\n",
        "\n",
        "    for max_features in max_features_option :\n",
        "        if max_features not in auc_record:\n",
        "            auc_record[max_features] = {}\n",
        "        cv = CountVectorizer(stop_words= 'english', max_features=max_features)\n",
        "        term_docs_train = cv.fit_transform(X_train)\n",
        "        term_docs_test = cv.transform(X_test)\n",
        "\n",
        "        for smoothing_factor in smoothing_factor_option:\n",
        "            if smoothing_factor not in auc_record[max_features] :\n",
        "                auc_record[max_features][smoothing_factor] = {}\n",
        "\n",
        "            for fit_prior in fit_prior_option:\n",
        "                clf = MultinomialNB(alpha=smoothing_factor, fit_prior=fit_prior)\n",
        "                clf.fit(term_docs_train, Y_train)\n",
        "                prediction_prob = clf.predict_proba(term_docs_test)\n",
        "                pos_prob = prediction_prob[:, 1]\n",
        "                auc = roc_auc_score(Y_test, pos_prob)\n",
        "                auc_record[max_features][smoothing_factor][fit_prior] \\\n",
        "                = auc + auc_record[max_features][smoothing_factor].get(fit_prior, 0.0)"
      ],
      "metadata": {
        "id": "K2woZAwSobNz"
      },
      "execution_count": 37,
      "outputs": []
    },
    {
      "cell_type": "code",
      "source": [
        "print(\"max features\\tsmoothing\\tfit prior\\tauc\")\n",
        "for max_features, max_feature_record in auc_record.items():\n",
        "    for smoothing, smoothing_record in max_feature_record.items():\n",
        "        for fit_prior, auc in smoothing_record.items():\n",
        "            print('\\t{0}\\t\\t{1}\\t  {2}  \\t{3:.4f}'.format(max_features, smoothing, fit_prior, auc/k))"
      ],
      "metadata": {
        "colab": {
          "base_uri": "https://localhost:8080/"
        },
        "id": "l1SaI_rvqYVn",
        "outputId": "d65c2f65-0edd-4781-db88-74d6b755ffa1"
      },
      "execution_count": 51,
      "outputs": [
        {
          "output_type": "stream",
          "name": "stdout",
          "text": [
            "max features\tsmoothing\tfit prior\tauc\n",
            "\t2000\t\t0.5\t  True  \t0.9759\n",
            "\t2000\t\t0.5\t  False  \t0.9758\n",
            "\t2000\t\t1.0\t  True  \t0.9736\n",
            "\t2000\t\t1.0\t  False  \t0.9736\n",
            "\t2000\t\t1.5\t  True  \t0.9721\n",
            "\t2000\t\t1.5\t  False  \t0.9720\n",
            "\t2000\t\t2.0\t  True  \t0.9710\n",
            "\t2000\t\t2.0\t  False  \t0.9709\n",
            "\t4000\t\t0.5\t  True  \t0.9828\n",
            "\t4000\t\t0.5\t  False  \t0.9828\n",
            "\t4000\t\t1.0\t  True  \t0.9809\n",
            "\t4000\t\t1.0\t  False  \t0.9806\n",
            "\t4000\t\t1.5\t  True  \t0.9796\n",
            "\t4000\t\t1.5\t  False  \t0.9795\n",
            "\t4000\t\t2.0\t  True  \t0.9788\n",
            "\t4000\t\t2.0\t  False  \t0.9788\n",
            "\t8000\t\t0.5\t  True  \t0.9873\n",
            "\t8000\t\t0.5\t  False  \t0.9873\n",
            "\t8000\t\t1.0\t  True  \t0.9863\n",
            "\t8000\t\t1.0\t  False  \t0.9863\n",
            "\t8000\t\t1.5\t  True  \t0.9858\n",
            "\t8000\t\t1.5\t  False  \t0.9857\n",
            "\t8000\t\t2.0\t  True  \t0.9853\n",
            "\t8000\t\t2.0\t  False  \t0.9853\n"
          ]
        }
      ]
    },
    {
      "cell_type": "code",
      "source": [
        "# 학습모델 선택 : 최고의 성능을 낸 조건을 선택(auc기반으로 선택)"
      ],
      "metadata": {
        "id": "Xp_AanNfMhUy"
      },
      "execution_count": null,
      "outputs": []
    }
  ]
}