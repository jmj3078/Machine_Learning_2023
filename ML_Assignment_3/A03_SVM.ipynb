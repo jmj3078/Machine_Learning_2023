{
  "cells": [
    {
      "cell_type": "markdown",
      "metadata": {
        "id": "jrtBsqyCkmL1"
      },
      "source": [
        "# SVM Classification"
      ]
    },
    {
      "cell_type": "markdown",
      "metadata": {
        "id": "cQ1IreVckmL2"
      },
      "source": [
        "## Load Dataset"
      ]
    },
    {
      "cell_type": "code",
      "execution_count": 1,
      "metadata": {
        "id": "y2lL5QaokmL3"
      },
      "outputs": [],
      "source": [
        "# Load dataset\n",
        "from seaborn import load_dataset\n",
        "\n",
        "df = load_dataset('penguins')\n",
        "df = df.dropna()"
      ]
    },
    {
      "cell_type": "code",
      "execution_count": 2,
      "metadata": {
        "id": "j25aWuN1kmL3"
      },
      "outputs": [],
      "source": [
        "# binary classification을 위해 ['Adelie', 'Gentoo', 'Chinstrap'] 중 'Gentoo' 제외\n",
        "df = df[df['species'] != 'Gentoo']\n",
        "\n",
        "# 2차원 평면에 나타내기 위해 feature 2개만 사용\n",
        "feature_name = ['bill_length_mm', 'bill_depth_mm']\n",
        "data = df[feature_name].to_numpy()\n",
        "\n",
        "# target이 string이므로 0,1의 int로 변환\n",
        "target = df['species']\n",
        "for idx, value in enumerate(target.unique()):\n",
        "    target = target.replace(value, idx)\n",
        "target = target.to_numpy()"
      ]
    },
    {
      "cell_type": "markdown",
      "metadata": {
        "id": "iqbuAS4akmL4"
      },
      "source": [
        "## Model Training"
      ]
    },
    {
      "cell_type": "code",
      "execution_count": 3,
      "metadata": {
        "id": "FwVPbnGekmL4"
      },
      "outputs": [],
      "source": [
        "from sklearn.model_selection import train_test_split\n",
        "X_train, X_test, y_train, y_test = train_test_split(data, target, test_size=0.3, random_state=3) # 데이터 분할"
      ]
    },
    {
      "cell_type": "code",
      "execution_count": 4,
      "metadata": {
        "colab": {
          "base_uri": "https://localhost:8080/"
        },
        "id": "sj7yex2qkmL4",
        "outputId": "1f3d4f7e-1a88-441a-a853-1fdfba63cedf"
      },
      "outputs": [
        {
          "name": "stdout",
          "output_type": "stream",
          "text": [
            "Accuracy:  0.9384615384615385\n"
          ]
        }
      ],
      "source": [
        "from svm import SVMClassifier # SVM Classifier\n",
        "from sklearn.metrics import classification_report\n",
        "\n",
        "clf = SVMClassifier()\n",
        "clf.fit(X_train, y_train) # 분류기 훈련\n",
        "y_pred = clf.predict(X_test) # 예측값 추론\n",
        "print(\"Accuracy: \", clf.get_accuracy(y_test, y_pred))"
      ]
    },
    {
      "cell_type": "code",
      "execution_count": 5,
      "metadata": {
        "colab": {
          "base_uri": "https://localhost:8080/"
        },
        "id": "cBSPEgYskmL6",
        "outputId": "4f3ae2e6-f2c3-4e24-fc41-58ae00756532"
      },
      "outputs": [
        {
          "name": "stdout",
          "output_type": "stream",
          "text": [
            "              precision    recall  f1-score   support\n",
            "\n",
            "           0     0.9512    0.9512    0.9512        41\n",
            "           1     0.9167    0.9167    0.9167        24\n",
            "\n",
            "    accuracy                         0.9385        65\n",
            "   macro avg     0.9339    0.9339    0.9339        65\n",
            "weighted avg     0.9385    0.9385    0.9385        65\n",
            "\n"
          ]
        }
      ],
      "source": [
        "print(classification_report(y_test, y_pred, digits=4)) # 결과 리포트"
      ]
    },
    {
      "cell_type": "markdown",
      "metadata": {
        "id": "d2Js0MiNkmL6"
      },
      "source": [
        "# Visualization"
      ]
    },
    {
      "cell_type": "code",
      "execution_count": 6,
      "metadata": {
        "id": "Ct1gcBRrkmL6"
      },
      "outputs": [],
      "source": [
        "coef, interrupt = clf.fit(X_train, y_train)"
      ]
    },
    {
      "cell_type": "code",
      "execution_count": 7,
      "metadata": {
        "colab": {
          "base_uri": "https://localhost:8080/",
          "height": 265
        },
        "id": "vF6OqHo9kmL7",
        "outputId": "bee007c7-d61a-479e-b288-7594efb2ecbe"
      },
      "outputs": [
        {
          "data": {
            "image/png": "[encoded data removed]",
            "text/plain": [
              "<Figure size 640x480 with 1 Axes>"
            ]
          },
          "metadata": {},
          "output_type": "display_data"
        }
      ],
      "source": [
        "clf.visualization(X_test, y_test, coef, interrupt)"
      ]
    },
    {
      "cell_type": "code",
      "execution_count": null,
      "metadata": {},
      "outputs": [],
      "source": []
    }
  ],
  "metadata": {
    "colab": {
      "provenance": []
    },
    "kernelspec": {
      "display_name": "Python 3",
      "language": "python",
      "name": "python3"
    },
    "language_info": {
      "codemirror_mode": {
        "name": "ipython",
        "version": 3
      },
      "file_extension": ".py",
      "mimetype": "text/x-python",
      "name": "python",
      "nbconvert_exporter": "python",
      "pygments_lexer": "ipython3",
      "version": "3.9.13"
    },
    "vscode": {
      "interpreter": {
        "hash": "949777d72b0d2535278d3dc13498b2535136f6dfe0678499012e853ee9abcab1"
      }
    }
  },
  "nbformat": 4,
  "nbformat_minor": 0
}
