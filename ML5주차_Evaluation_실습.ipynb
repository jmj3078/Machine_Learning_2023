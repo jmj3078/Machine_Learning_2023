{
  "cells": [
    {
      "cell_type": "markdown",
      "metadata": {
        "id": "dHy7Mo-5gCdn"
      },
      "source": [
        "## Metrics\n",
        "- https://scikit-learn.org/stable/modules/classes.html#module-sklearn.metrics"
      ]
    },
    {
      "cell_type": "code",
      "execution_count": null,
      "metadata": {
        "colab": {
          "base_uri": "https://localhost:8080/"
        },
        "id": "3lrnhSQrgCdo",
        "outputId": "b3203a84-1366-4388-f7ce-e48105e1dd76"
      },
      "outputs": [
        {
          "output_type": "stream",
          "name": "stdout",
          "text": [
            "The accuracy is 0.57\n",
            "\n",
            "The recall is 0.50\n",
            "\n",
            "The precision is 0.67\n",
            "\n",
            "The f1 score is 0.57\n",
            "\n",
            "The confusion matrix:\n",
            "[[2 1]\n",
            " [2 2]]\n",
            "\n",
            "The classification report is:\n",
            "              precision    recall  f1-score   support\n",
            "\n",
            "           0       0.50      0.67      0.57         3\n",
            "           1       0.67      0.50      0.57         4\n",
            "\n",
            "    accuracy                           0.57         7\n",
            "   macro avg       0.58      0.58      0.57         7\n",
            "weighted avg       0.60      0.57      0.57         7\n",
            "\n"
          ]
        }
      ],
      "source": [
        "import numpy as np\n",
        "\n",
        "# True\n",
        "a = np.array([1,0,0,1,0,1,1])\n",
        "# Predict\n",
        "b = np.array([0,0,0,1,1,1,0])\n",
        "\n",
        "from sklearn.metrics import accuracy_score\n",
        "from sklearn.metrics import recall_score\n",
        "from sklearn.metrics import precision_score\n",
        "from sklearn.metrics import f1_score\n",
        "from sklearn.metrics import confusion_matrix\n",
        "from sklearn.metrics import classification_report \n",
        "\n",
        "acc = accuracy_score(a, b)\n",
        "print(\"The accuracy is {:.2f}\\n\".format(acc))\n",
        "\n",
        "recall = recall_score(a, b)\n",
        "print(\"The recall is {:.2f}\\n\".format(recall))\n",
        "\n",
        "precision = precision_score(a, b)\n",
        "print(\"The precision is {:.2f}\\n\".format(precision))\n",
        "\n",
        "f1 = f1_score(a, b)\n",
        "print(\"The f1 score is {:.2f}\\n\".format(f1))\n",
        "\n",
        "print(\"The confusion matrix:\")\n",
        "print(confusion_matrix(a, b))\n",
        "\n",
        "print(\"\\nThe classification report is:\")\n",
        "print(classification_report(a, b))"
      ]
    },
    {
      "cell_type": "code",
      "execution_count": null,
      "metadata": {
        "colab": {
          "base_uri": "https://localhost:8080/"
        },
        "id": "DUuOWBxLgCdr",
        "outputId": "0a67162e-5e9e-4cf8-d629-29b3a232845d"
      },
      "outputs": [
        {
          "output_type": "stream",
          "name": "stdout",
          "text": [
            "The accuracy is 0.88\n",
            "\n",
            "The recall is 0.50\n",
            "\n",
            "The precision is 1.00\n",
            "\n",
            "The f1 is 0.67\n",
            "\n",
            "The confusion matrix:\n",
            "[[6 0]\n",
            " [1 1]]\n",
            "\n",
            "The classification report is:\n",
            "              precision    recall  f1-score   support\n",
            "\n",
            "           0       0.86      1.00      0.92         6\n",
            "           1       1.00      0.50      0.67         2\n",
            "\n",
            "    accuracy                           0.88         8\n",
            "   macro avg       0.93      0.75      0.79         8\n",
            "weighted avg       0.89      0.88      0.86         8\n",
            "\n"
          ]
        }
      ],
      "source": [
        "import numpy as np\n",
        "\n",
        "a = np.array([1,1,0,0,0,0,0,0])\n",
        "b = np.array([0,1,0,0,0,0,0,0])\n",
        "\n",
        "# Imbalance 한 상황과 관련해서 이야기 해보기\n",
        "\n",
        "from sklearn.metrics import accuracy_score\n",
        "from sklearn.metrics import f1_score\n",
        "from sklearn.metrics import recall_score\n",
        "from sklearn.metrics import precision_score\n",
        "from sklearn.metrics import confusion_matrix\n",
        "from sklearn.metrics import classification_report \n",
        "\n",
        "acc = accuracy_score(a, b)\n",
        "print(\"The accuracy is {:.2f}\\n\".format(acc))\n",
        "\n",
        "recall = recall_score(a, b)\n",
        "print(\"The recall is {:.2f}\\n\".format(recall))\n",
        "\n",
        "precision = precision_score(a, b)\n",
        "print(\"The precision is {:.2f}\\n\".format(precision))\n",
        "\n",
        "f1_score = f1_score(a, b)\n",
        "print(\"The f1 is {:.2f}\\n\".format(f1_score))\n",
        "\n",
        "print(\"The confusion matrix:\")\n",
        "print(confusion_matrix(a, b))\n",
        "\n",
        "print(\"\\nThe classification report is:\")\n",
        "print(classification_report(a, b))"
      ]
    },
    {
      "cell_type": "markdown",
      "metadata": {
        "id": "JCvfT4OmgCd0"
      },
      "source": [
        "## Draw Pretty Confusion Matrix\n",
        "* Matplotlib 패키지 사용"
      ]
    },
    {
      "cell_type": "code",
      "execution_count": null,
      "metadata": {
        "colab": {
          "base_uri": "https://localhost:8080/",
          "height": 75
        },
        "id": "t-Wy8BTGgCd1",
        "outputId": "68ab66a5-fd1e-4619-f458-6582d06b63c3"
      },
      "outputs": [
        {
          "output_type": "execute_result",
          "data": {
            "text/plain": [
              "MultinomialNB()"
            ],
            "text/html": [
              "<style>#sk-container-id-1 {color: black;background-color: white;}#sk-container-id-1 pre{padding: 0;}#sk-container-id-1 div.sk-toggleable {background-color: white;}#sk-container-id-1 label.sk-toggleable__label {cursor: pointer;display: block;width: 100%;margin-bottom: 0;padding: 0.3em;box-sizing: border-box;text-align: center;}#sk-container-id-1 label.sk-toggleable__label-arrow:before {content: \"▸\";float: left;margin-right: 0.25em;color: #696969;}#sk-container-id-1 label.sk-toggleable__label-arrow:hover:before {color: black;}#sk-container-id-1 div.sk-estimator:hover label.sk-toggleable__label-arrow:before {color: black;}#sk-container-id-1 div.sk-toggleable__content {max-height: 0;max-width: 0;overflow: hidden;text-align: left;background-color: #f0f8ff;}#sk-container-id-1 div.sk-toggleable__content pre {margin: 0.2em;color: black;border-radius: 0.25em;background-color: #f0f8ff;}#sk-container-id-1 input.sk-toggleable__control:checked~div.sk-toggleable__content {max-height: 200px;max-width: 100%;overflow: auto;}#sk-container-id-1 input.sk-toggleable__control:checked~label.sk-toggleable__label-arrow:before {content: \"▾\";}#sk-container-id-1 div.sk-estimator input.sk-toggleable__control:checked~label.sk-toggleable__label {background-color: #d4ebff;}#sk-container-id-1 div.sk-label input.sk-toggleable__control:checked~label.sk-toggleable__label {background-color: #d4ebff;}#sk-container-id-1 input.sk-hidden--visually {border: 0;clip: rect(1px 1px 1px 1px);clip: rect(1px, 1px, 1px, 1px);height: 1px;margin: -1px;overflow: hidden;padding: 0;position: absolute;width: 1px;}#sk-container-id-1 div.sk-estimator {font-family: monospace;background-color: #f0f8ff;border: 1px dotted black;border-radius: 0.25em;box-sizing: border-box;margin-bottom: 0.5em;}#sk-container-id-1 div.sk-estimator:hover {background-color: #d4ebff;}#sk-container-id-1 div.sk-parallel-item::after {content: \"\";width: 100%;border-bottom: 1px solid gray;flex-grow: 1;}#sk-container-id-1 div.sk-label:hover label.sk-toggleable__label {background-color: #d4ebff;}#sk-container-id-1 div.sk-serial::before {content: \"\";position: absolute;border-left: 1px solid gray;box-sizing: border-box;top: 0;bottom: 0;left: 50%;z-index: 0;}#sk-container-id-1 div.sk-serial {display: flex;flex-direction: column;align-items: center;background-color: white;padding-right: 0.2em;padding-left: 0.2em;position: relative;}#sk-container-id-1 div.sk-item {position: relative;z-index: 1;}#sk-container-id-1 div.sk-parallel {display: flex;align-items: stretch;justify-content: center;background-color: white;position: relative;}#sk-container-id-1 div.sk-item::before, #sk-container-id-1 div.sk-parallel-item::before {content: \"\";position: absolute;border-left: 1px solid gray;box-sizing: border-box;top: 0;bottom: 0;left: 50%;z-index: -1;}#sk-container-id-1 div.sk-parallel-item {display: flex;flex-direction: column;z-index: 1;position: relative;background-color: white;}#sk-container-id-1 div.sk-parallel-item:first-child::after {align-self: flex-end;width: 50%;}#sk-container-id-1 div.sk-parallel-item:last-child::after {align-self: flex-start;width: 50%;}#sk-container-id-1 div.sk-parallel-item:only-child::after {width: 0;}#sk-container-id-1 div.sk-dashed-wrapped {border: 1px dashed gray;margin: 0 0.4em 0.5em 0.4em;box-sizing: border-box;padding-bottom: 0.4em;background-color: white;}#sk-container-id-1 div.sk-label label {font-family: monospace;font-weight: bold;display: inline-block;line-height: 1.2em;}#sk-container-id-1 div.sk-label-container {text-align: center;}#sk-container-id-1 div.sk-container {/* jupyter's `normalize.less` sets `[hidden] { display: none; }` but bootstrap.min.css set `[hidden] { display: none !important; }` so we also need the `!important` here to be able to override the default hidden behavior on the sphinx rendered scikit-learn.org. See: https://github.com/scikit-learn/scikit-learn/issues/21755 */display: inline-block !important;position: relative;}#sk-container-id-1 div.sk-text-repr-fallback {display: none;}</style><div id=\"sk-container-id-1\" class=\"sk-top-container\"><div class=\"sk-text-repr-fallback\"><pre>MultinomialNB()</pre><b>In a Jupyter environment, please rerun this cell to show the HTML representation or trust the notebook. <br />On GitHub, the HTML representation is unable to render, please try loading this page with nbviewer.org.</b></div><div class=\"sk-container\" hidden><div class=\"sk-item\"><div class=\"sk-estimator sk-toggleable\"><input class=\"sk-toggleable__control sk-hidden--visually\" id=\"sk-estimator-id-1\" type=\"checkbox\" checked><label for=\"sk-estimator-id-1\" class=\"sk-toggleable__label sk-toggleable__label-arrow\">MultinomialNB</label><div class=\"sk-toggleable__content\"><pre>MultinomialNB()</pre></div></div></div></div></div>"
            ]
          },
          "metadata": {},
          "execution_count": 3
        }
      ],
      "source": [
        "# Load dataset\n",
        "from sklearn.datasets import load_iris\n",
        "from sklearn.model_selection import train_test_split\n",
        "from sklearn.naive_bayes import MultinomialNB\n",
        "\n",
        "iris = load_iris()\n",
        "\n",
        "data = iris[\"data\"] # 실제 데이터 (모델 인풋, X)\n",
        "target = iris[\"target\"] # 예측 값 (실제 아웃풋, Y)\n",
        "\n",
        "X_train, X_test, y_train, y_test = train_test_split(data, target, test_size=0.33, random_state=3) # 데이터 분할\n",
        "\n",
        "clf = MultinomialNB() # 분류기 정의\n",
        "clf.fit(X_train, y_train)"
      ]
    },
    {
      "cell_type": "markdown",
      "metadata": {
        "id": "opcjKTLqgCd1"
      },
      "source": [
        "### Use matplotlib"
      ]
    },
    {
      "cell_type": "code",
      "execution_count": null,
      "metadata": {
        "colab": {
          "base_uri": "https://localhost:8080/"
        },
        "id": "pa5UIhb_gCd1",
        "outputId": "14f853a5-aef1-4798-8f44-9b3cb22419b0"
      },
      "outputs": [
        {
          "output_type": "stream",
          "name": "stdout",
          "text": [
            "Looking in indexes: https://pypi.org/simple, https://us-python.pkg.dev/colab-wheels/public/simple/\n",
            "Requirement already satisfied: matplotlib in /usr/local/lib/python3.9/dist-packages (3.7.1)\n",
            "Requirement already satisfied: kiwisolver>=1.0.1 in /usr/local/lib/python3.9/dist-packages (from matplotlib) (1.4.4)\n",
            "Requirement already satisfied: contourpy>=1.0.1 in /usr/local/lib/python3.9/dist-packages (from matplotlib) (1.0.7)\n",
            "Requirement already satisfied: pyparsing>=2.3.1 in /usr/local/lib/python3.9/dist-packages (from matplotlib) (3.0.9)\n",
            "Requirement already satisfied: pillow>=6.2.0 in /usr/local/lib/python3.9/dist-packages (from matplotlib) (8.4.0)\n",
            "Requirement already satisfied: python-dateutil>=2.7 in /usr/local/lib/python3.9/dist-packages (from matplotlib) (2.8.2)\n",
            "Requirement already satisfied: importlib-resources>=3.2.0 in /usr/local/lib/python3.9/dist-packages (from matplotlib) (5.12.0)\n",
            "Requirement already satisfied: packaging>=20.0 in /usr/local/lib/python3.9/dist-packages (from matplotlib) (23.0)\n",
            "Requirement already satisfied: fonttools>=4.22.0 in /usr/local/lib/python3.9/dist-packages (from matplotlib) (4.39.2)\n",
            "Requirement already satisfied: numpy>=1.20 in /usr/local/lib/python3.9/dist-packages (from matplotlib) (1.22.4)\n",
            "Requirement already satisfied: cycler>=0.10 in /usr/local/lib/python3.9/dist-packages (from matplotlib) (0.11.0)\n",
            "Requirement already satisfied: zipp>=3.1.0 in /usr/local/lib/python3.9/dist-packages (from importlib-resources>=3.2.0->matplotlib) (3.15.0)\n",
            "Requirement already satisfied: six>=1.5 in /usr/local/lib/python3.9/dist-packages (from python-dateutil>=2.7->matplotlib) (1.16.0)\n"
          ]
        }
      ],
      "source": [
        "! pip3 install matplotlib # install matplotlib"
      ]
    },
    {
      "cell_type": "code",
      "execution_count": null,
      "metadata": {
        "colab": {
          "base_uri": "https://localhost:8080/",
          "height": 283
        },
        "id": "TX904CmsgCd2",
        "outputId": "86f006a3-ebd1-4485-c3f0-a38c3b5cb326"
      },
      "outputs": [
        {
          "output_type": "display_data",
          "data": {
            "text/plain": [
              "<Figure size 432x288 with 2 Axes>"
            ],
            "image/png": "[encoded data removed]"
          },
          "metadata": {
            "needs_background": "light"
          }
        }
      ],
      "source": [
        "from sklearn.metrics import confusion_matrix, ConfusionMatrixDisplay\n",
        "import matplotlib.pyplot as plt\n",
        "\n",
        "label = [\n",
        "    \"Iris-Setosa\",\n",
        "    \"Iris-Versicolour\",\n",
        "    \"Iris-Virginica\",\n",
        "]\n",
        "\n",
        "plot = ConfusionMatrixDisplay.from_estimator(clf, # 분류 모델\n",
        "                                             X_test, y_test, # 예측 데이터와 예측값의 정답(y_true)\n",
        "                                             display_labels=label, # 표에 표시할 labels\n",
        "                                             cmap = 'Blues', # 컬러맵('Accent', 'Greys' 등이 있음. matplotlib.cm.cmap_d.keys()를 통해 종류 확인 가능)\n",
        "                                             normalize=None) # 'true', 'pred', 'all' 중에서 지정 가능. default=None \n",
        "plt.show()  "
      ]
    },
    {
      "cell_type": "markdown",
      "metadata": {
        "id": "T9E5UGSrgCd3"
      },
      "source": [
        "# Draw AUROC Curve\n",
        "* 이진분류 데이터에 대해서만 AUROC커브를 그릴 수 있다."
      ]
    },
    {
      "cell_type": "code",
      "execution_count": null,
      "metadata": {
        "id": "wJcJAvddgCd3"
      },
      "outputs": [],
      "source": [
        "# Load dataset\n",
        "from sklearn.datasets import load_breast_cancer\n",
        "from sklearn.model_selection import train_test_split\n",
        "from sklearn.naive_bayes import MultinomialNB\n",
        "\n",
        "cancer = load_breast_cancer() # 이진분류를 위한 데이터셋을 새로 로드\n",
        "\n",
        "data = cancer[\"data\"] # 실제 데이터 (모델 인풋, X)\n",
        "target = cancer[\"target\"] # 예측 값 (실제 아웃풋, Y)\n",
        "\n",
        "X_train, X_test, y_train, y_test = train_test_split(data, target, test_size=0.33, random_state=3) # 데이터 분할\n",
        "\n",
        "clf = MultinomialNB() # 분류기 정의\n",
        "clf.fit(X_train, y_train) # 분류기 훈련\n",
        "\n",
        "# 모델의 예측값이 1(질병이 있을 확률)일 확률을 계산한다.\n",
        "y_score = clf.predict_proba(X_test)[:, 1]"
      ]
    },
    {
      "cell_type": "code",
      "execution_count": null,
      "metadata": {
        "id": "TCtXzFHPgCd3"
      },
      "outputs": [],
      "source": [
        "from sklearn.metrics import roc_curve\n",
        "fpr_model, tpr_model, _ = roc_curve(y_test, y_score) # 모델에 대한 roc_curve 계산 \n",
        "# fpr = false positive rate\n",
        "# tpr = true positive rate\n",
        "\n",
        "ns_probs = [0 for _ in range(len(y_test))] # 기준선을 그리기 위해 모든 확률이 0인 데이터를 생성\n",
        "fpr_none, tpr_none, _  = roc_curve(y_test, ns_probs) # 기준선에 대한 roc_curve 계산"
      ]
    },
    {
      "cell_type": "code",
      "execution_count": null,
      "metadata": {
        "colab": {
          "base_uri": "https://localhost:8080/",
          "height": 279
        },
        "id": "UL6OmGf9gCd3",
        "outputId": "843ca02e-15f9-4da1-b144-373f0929b9fb"
      },
      "outputs": [
        {
          "output_type": "display_data",
          "data": {
            "text/plain": [
              "<Figure size 432x288 with 1 Axes>"
            ],
            "image/png": "[encoded data removed]"
          },
          "metadata": {
            "needs_background": "light"
          }
        }
      ],
      "source": [
        "plt.plot(fpr_none, tpr_none, linestyle='--', label='No Skill')\n",
        "plt.plot(fpr_model, tpr_model, marker='.', label='Model')\n",
        "# axis labels\n",
        "plt.xlabel('False Positive Rate')\n",
        "plt.ylabel('True Positive Rate')\n",
        "# show the legend\n",
        "plt.legend()\n",
        "# show the plot\n",
        "plt.show()"
      ]
    },
    {
      "cell_type": "markdown",
      "metadata": {
        "id": "cVwXzKV75ukM"
      },
      "source": [
        "# 실습 과제"
      ]
    },
    {
      "cell_type": "markdown",
      "metadata": {
        "id": "4aRnprR55xrk"
      },
      "source": [
        "1. 다음 데이터셋의 accuracy, confusion matrix, classification report를 출력하는 코드를 직접 작성해보세요.\n",
        "2. Matplotlib을 사용해 다음 데이터셋의 Confusion Matrix를 그려보세요."
      ]
    },
    {
      "cell_type": "markdown",
      "metadata": {
        "id": "YgCl81dTgyf-"
      },
      "source": [
        "### Load Dataset - 수정 불필요"
      ]
    },
    {
      "cell_type": "code",
      "execution_count": 35,
      "metadata": {
        "id": "1MSfRDHLfQJg"
      },
      "outputs": [],
      "source": [
        "## Load dataset ##\n",
        "\n",
        "from sklearn.datasets import load_wine\n",
        "wine = load_wine() # 이진분류를 위한 데이터셋을 새로 로드\n",
        "\n",
        "data = wine[\"data\"] # 실제 데이터 (모델 인풋, X)\n",
        "target = wine[\"target\"] # 예측 값 (실제 아웃풋, Y)\n",
        "feature_name = wine[\"feature_names\"]"
      ]
    },
    {
      "cell_type": "code",
      "execution_count": 36,
      "metadata": {
        "id": "Z9bJ_bpWkoi7"
      },
      "outputs": [],
      "source": [
        "## Load dataset & Model Training##\n",
        "\n",
        "from sklearn.model_selection import train_test_split\n",
        "from sklearn.naive_bayes import MultinomialNB\n",
        "\n",
        "from sklearn.model_selection import train_test_split\n",
        "X_train, X_test, y_train, y_test = train_test_split(data, target, test_size=0.33, random_state=3) # 데이터 분할\n",
        "\n",
        "clf = MultinomialNB()\n",
        "clf.fit(X_train, y_train)\n",
        "y_pred = clf.predict(X_test)"
      ]
    },
    {
      "cell_type": "markdown",
      "metadata": {
        "id": "wyj0TrMhg2U_"
      },
      "source": [
        "### Report Result - 실습 문제"
      ]
    },
    {
      "cell_type": "code",
      "execution_count": 37,
      "metadata": {
        "id": "yAPzEqbXfx21",
        "colab": {
          "base_uri": "https://localhost:8080/"
        },
        "outputId": "73dd675d-fbbc-4e9c-fb77-efcf6055029a"
      },
      "outputs": [
        {
          "output_type": "stream",
          "name": "stdout",
          "text": [
            "accuracy : \n",
            " 0.7966101694915254\n",
            "The confusion matrix : \n",
            " [[21  1  2]\n",
            " [ 2 17  4]\n",
            " [ 1  2  9]]\n",
            "The classification report : \n",
            "               precision    recall  f1-score   support\n",
            "\n",
            "           0       0.88      0.88      0.88        24\n",
            "           1       0.85      0.74      0.79        23\n",
            "           2       0.60      0.75      0.67        12\n",
            "\n",
            "    accuracy                           0.80        59\n",
            "   macro avg       0.78      0.79      0.78        59\n",
            "weighted avg       0.81      0.80      0.80        59\n",
            "\n"
          ]
        }
      ],
      "source": [
        "from sklearn.metrics import accuracy_score\n",
        "from sklearn.metrics import confusion_matrix\n",
        "from sklearn.metrics import classification_report \n",
        "\n",
        "## Accuracy ##\n",
        "acc = accuracy_score(y_test, y_pred)\n",
        "print('accuracy : \\n',acc)\n",
        "\n",
        "## Confusion matrix ##\n",
        "cm = confusion_matrix(y_test, y_pred)\n",
        "print('The confusion matrix : \\n',cm)\n",
        "\n",
        "## Classification report ##\n",
        "cr = classification_report(y_test, y_pred)\n",
        "print('The classification report : \\n',cr)"
      ]
    },
    {
      "cell_type": "code",
      "execution_count": 38,
      "metadata": {
        "id": "3X5kJ9wkgVI7",
        "colab": {
          "base_uri": "https://localhost:8080/",
          "height": 280
        },
        "outputId": "ccd49147-a35c-4f62-a03d-c895f0e80f66"
      },
      "outputs": [
        {
          "output_type": "display_data",
          "data": {
            "text/plain": [
              "<Figure size 432x288 with 2 Axes>"
            ],
            "image/png": "[encoded data removed]"
          },
          "metadata": {
            "needs_background": "light"
          }
        }
      ],
      "source": [
        "## Plotting Confusion Matrix ##\n",
        "## label명 변경 필수 ##\n",
        "from sklearn.metrics import confusion_matrix, ConfusionMatrixDisplay\n",
        "import matplotlib.pyplot as plt\n",
        "\n",
        "label = list(wine.target_names)\n",
        "\n",
        "plot = ConfusionMatrixDisplay.from_estimator(clf, \n",
        "                                             X_test, y_test, \n",
        "                                             display_labels=label, \n",
        "                                             cmap = 'Blues', \n",
        "                                             normalize=None) \n",
        "plt.show()  "
      ]
    },
    {
      "cell_type": "code",
      "source": [],
      "metadata": {
        "id": "xtwVv1GfZcCR"
      },
      "execution_count": null,
      "outputs": []
    }
  ],
  "metadata": {
    "colab": {
      "provenance": []
    },
    "kernelspec": {
      "display_name": "Python 3",
      "language": "python",
      "name": "python3"
    },
    "language_info": {
      "codemirror_mode": {
        "name": "ipython",
        "version": 3
      },
      "file_extension": ".py",
      "mimetype": "text/x-python",
      "name": "python",
      "nbconvert_exporter": "python",
      "pygments_lexer": "ipython3",
      "version": "3.8.8"
    },
    "vscode": {
      "interpreter": {
        "hash": "6a926afa313b26ae1264fdcf81c726a97e69f6ba2ba780f6aa901948710f8d6e"
      }
    }
  },
  "nbformat": 4,
  "nbformat_minor": 0
}