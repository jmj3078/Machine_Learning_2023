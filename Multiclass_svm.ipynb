{
 "cells": [
  {
   "attachments": {},
   "cell_type": "markdown",
   "metadata": {},
   "source": [
    "## Data Preprocessing"
   ]
  },
  {
   "cell_type": "code",
   "execution_count": 2,
   "metadata": {},
   "outputs": [],
   "source": [
    "import glob, os\n",
    "import pandas as pd\n",
    "import numpy as np\n",
    "import matplotlib.pyplot as plt\n",
    "#! kaggle competitions download -c skku-2023-1-machine-learning-first-project"
   ]
  },
  {
   "cell_type": "code",
   "execution_count": 25,
   "metadata": {},
   "outputs": [],
   "source": [
    "bulk_files = glob.glob('./train/bulk*')\n",
    "inter_files = glob.glob('./train/interactive*')\n",
    "video_files = glob.glob('./train/video*')\n",
    "web_files = glob.glob('./train/web*')"
   ]
  },
  {
   "cell_type": "code",
   "execution_count": 26,
   "metadata": {},
   "outputs": [],
   "source": [
    "def preprocessing(df):\n",
    "    # POSIX time to %Y/%m/%d %H:%M:%S format\n",
    "    df.time = df.time.astype(int)\n",
    "    df.time = pd.to_datetime(df.time , unit='s')\n",
    "    df.time = df.time.dt.strftime('%Y/%m/%d %H:%M:%S')\n",
    "\n",
    "    grouped = df.groupby(['time', 'ip_dst']).agg({'data_len': 'count'})\n",
    "    grouped = grouped[grouped.groupby('ip_dst')['data_len'].transform('size') > 40]\n",
    "    \n",
    "    plt.figure(figsize=(5,3))\n",
    "    plt.plot(grouped.sort_values(['ip_dst','time']).data_len.values)\n",
    "    plt.show()\n",
    "    grouped.reset_index(inplace=True)\n",
    "    \n",
    "    ip_groups = grouped.groupby('ip_dst')\n",
    "    wind_df = pd.DataFrame()\n",
    "    # slide windowing, size 11 \n",
    "    for ip, group in ip_groups :\n",
    "        temp = pd.DataFrame()\n",
    "        group = group.sort_values('time')\n",
    "        for i in range(11):\n",
    "            temp[i] = group['data_len'].shift(i)\n",
    "        wind_df = wind_df.append(temp).loc[::-1]\n",
    "    \n",
    "    wind_df.dropna(inplace=True)\n",
    "    wind_df.reset_index(drop=True, inplace=True)\n",
    "    return wind_df\n"
   ]
  },
  {
   "cell_type": "code",
   "execution_count": null,
   "metadata": {},
   "outputs": [],
   "source": [
    "df = pd.DataFrame()\n",
    "for video_file in video_files :\n",
    "    temp = pd.read_csv(video_file)\n",
    "    df = df.append(temp)\n",
    "print(len(df))\n",
    "video_df = preprocessing(df)\n",
    "\n",
    "df = pd.DataFrame()\n",
    "for inter_file in inter_files :\n",
    "    temp = pd.read_csv(inter_file)\n",
    "    df = df.append(temp)\n",
    "print(len(df))\n",
    "inter_df = preprocessing(df)\n",
    "\n",
    "df = pd.DataFrame()\n",
    "for bulk_file in bulk_files :\n",
    "    temp = pd.read_csv(bulk_file)\n",
    "    df = df.append(temp)\n",
    "print(len(df))\n",
    "bulk_df = preprocessing(df)\n",
    "\n",
    "df = pd.DataFrame()\n",
    "for web_file in web_files :\n",
    "    temp = pd.read_csv(web_file)\n",
    "    df = df.append(temp)\n",
    "print(len(df))\n",
    "web_df = preprocessing(df)"
   ]
  },
  {
   "cell_type": "code",
   "execution_count": 28,
   "metadata": {},
   "outputs": [],
   "source": [
    "bulk_df_re = bulk_df[bulk_df.sum(axis=1) > 20]\n",
    "video_df_re = video_df[video_df.sum(axis=1) > 20]\n",
    "web_df_re = web_df[web_df.sum(axis=1) > 20]\n",
    "bulk_df_re.reset_index(inplace=True)\n",
    "web_df_re.reset_index(inplace=True)\n",
    "video_df_re.reset_index(inplace=True)"
   ]
  },
  {
   "cell_type": "code",
   "execution_count": null,
   "metadata": {},
   "outputs": [],
   "source": [
    "bulk_df_re['y'] = pd.Series([1]*len(bulk_df_re)) # bulk : 1\n",
    "video_df_re['y'] = pd.Series([2]*len(video_df_re)) # video : 2\n",
    "web_df_re['y'] = pd.Series([3]*len(web_df_re)) # web : 3\n",
    "inter_df['y'] = pd.Series([0]*len(inter_df)) # inter : 0\n",
    "\n",
    "print(len(bulk_df),len(video_df),len(web_df),len(inter_df)) \n",
    "# 학습 데이터의 크기 차이가 너무 큰 상황"
   ]
  },
  {
   "cell_type": "code",
   "execution_count": 30,
   "metadata": {},
   "outputs": [
    {
     "name": "stdout",
     "output_type": "stream",
     "text": [
      "14895\n"
     ]
    }
   ],
   "source": [
    "train_data = pd.concat([bulk_df_re, video_df_re, inter_df, web_df_re], axis=0, ignore_index=True).iloc[:,1:13]\n",
    "train_data.columns = [f'(t-{10-i})'for i in range(0, 11)]+['y']\n",
    "print(len(train_data))\n",
    "train_data.to_csv(\"./train_data.csv\",index=False)"
   ]
  },
  {
   "attachments": {},
   "cell_type": "markdown",
   "metadata": {},
   "source": [
    "## Data re-sampling methods"
   ]
  },
  {
   "cell_type": "code",
   "execution_count": 3,
   "metadata": {},
   "outputs": [],
   "source": [
    "train_data = pd.read_csv('./train_data.csv')\n",
    "X = train_data.iloc[:, 0:11]\n",
    "y = train_data.iloc[:, 11]"
   ]
  },
  {
   "cell_type": "code",
   "execution_count": 7,
   "metadata": {},
   "outputs": [],
   "source": [
    "# ! pip install imblearn\n",
    "from imblearn.under_sampling import *\n",
    "X_cc, y_cc = ClusterCentroids(sampling_strategy={0:10}).fit_resample(X, y)\n",
    "X_os, y_os = OneSidedSelection().fit_resample(X, y)\n",
    "\n",
    "from imblearn.over_sampling import *\n",
    "X_sm, y_sm = SMOTE(sampling_strategy='minority').fit_resample(X, y)\n",
    "X_ada, y_ada = ADASYN().fit_resample(X, y)\n",
    "\n",
    "from imblearn.combine import *\n",
    "X_samp, Y_samp = SMOTEENN().fit_resample(X, y)\n",
    "X_smtk, Y_smtk = SMOTETomek().fit_resample(X, y)"
   ]
  },
  {
   "cell_type": "code",
   "execution_count": 36,
   "metadata": {},
   "outputs": [
    {
     "name": "stdout",
     "output_type": "stream",
     "text": [
      "0.8489425981873111 0.035222741563141126\n",
      "0.7645735921082047 0.004179863955928422\n",
      "0.5536887723337698 0.11674986218611605\n",
      "0.8640862472850872 0.09043893520799233\n",
      "0.8490552564903862 0.033796805130622165\n",
      "0.7167644726407614 0.09043893520799233\n",
      "0.7176905299563628 0.033796805130622165\n"
     ]
    }
   ],
   "source": [
    "from sklearn import svm\n",
    "from sklearn.model_selection import cross_val_score\n",
    "from sklearn.model_selection import cross_val_predict\n",
    "from sklearn.metrics import accuracy_score\n",
    "\n",
    "svm = svm.SVC()\n",
    "cv_results_1 = cross_val_score(svm, X, y, cv=5, scoring='accuracy')\n",
    "cv_results_2 = cross_val_score(svm, X_sm, y_sm, cv=5, scoring='accuracy')\n",
    "cv_results_3 = cross_val_score(svm, X_ada, y_ada, cv=5, scoring='accuracy')\n",
    "cv_results_4 = cross_val_score(svm, X_cc, y_cc, cv=5, scoring='accuracy')\n",
    "cv_results_5 = cross_val_score(svm, X_os, y_os, cv=5, scoring='accuracy')\n",
    "cv_results_6 = cross_val_score(svm, X_samp, Y_samp, cv=5, scoring='accuracy')\n",
    "cv_results_7 = cross_val_score(svm, X_smtk, Y_smtk, cv=5, scoring='accuracy')\n",
    "print(cv_results_1.mean(), cv_results_1.std())\n",
    "print(cv_results_2.mean(), cv_results_2.std()) \n",
    "print(cv_results_3.mean(), cv_results_3.std())\n",
    "print(cv_results_4.mean(), cv_results_4.std())\n",
    "print(cv_results_5.mean(), cv_results_5.std())\n",
    "print(cv_results_6.mean(), cv_results_4.std())\n",
    "print(cv_results_7.mean(), cv_results_5.std())"
   ]
  },
  {
   "cell_type": "code",
   "execution_count": 9,
   "metadata": {},
   "outputs": [],
   "source": [
    "# Conversion data to numpy array and calling test data\n",
    "X_train_data = X.values\n",
    "y_train_data = y.values\n",
    "test_data = pd.read_csv(\"./test.csv\").values"
   ]
  },
  {
   "cell_type": "code",
   "execution_count": 10,
   "metadata": {},
   "outputs": [
    {
     "data": {
      "image/png": "[encoded data removed]",
      "text/plain": [
       "<Figure size 432x288 with 1 Axes>"
      ]
     },
     "metadata": {
      "needs_background": "light"
     },
     "output_type": "display_data"
    }
   ],
   "source": [
    "# 시각화를 위한 PCA\n",
    "from sklearn.datasets import make_classification\n",
    "from sklearn.decomposition import PCA\n",
    "pca = PCA(n_components=2)\n",
    "X_pca = pca.fit_transform(X_train_data)\n",
    "plt.scatter(X_pca[:, 0], X_pca[:, 1], c=y_train_data)\n",
    "plt.xlabel('PC1')\n",
    "plt.ylabel('PC2')\n",
    "plt.title('PCA results')\n",
    "plt.show()"
   ]
  },
  {
   "attachments": {},
   "cell_type": "markdown",
   "metadata": {},
   "source": [
    "## Model Training, Test and evaluation"
   ]
  },
  {
   "cell_type": "code",
   "execution_count": 88,
   "metadata": {},
   "outputs": [],
   "source": [
    "class Multiclass_SVM :\n",
    "      def __init__(self, C=1,max_iter=1000):\n",
    "            self.C = C\n",
    "            self.max_iter = max_iter\n",
    "                  \n",
    "      def fit(self, X, y):\n",
    "            self.classes = np.unique(y)\n",
    "            self.n_classes = len(self.classes)\n",
    "            self.classifiers =[]\n",
    "        \n",
    "            # one-hot encoding 진행\n",
    "            Y_hot = self.one_hot(y)\n",
    "            \n",
    "            # one-vs-one approach, 총 m(m-1)/2 번의 Binary Classification을 진행하고 사용한 모델을 저장한다.\n",
    "            # voting을 통하여 가장 많이 뽑힌 class로 분류를 진행. 느린 방식이지만 one vs rest approach보다 더 안정적인 성능을 기대할 수 있다.\n",
    "            for i in range(self.n_classes):\n",
    "                  for j in range(i+1, self.n_classes):\n",
    "                        print(f\"class {i}, {j} Binary SVM\")\n",
    "                        # 필요한 class의 데이터만 뽑아내어 Binary SVC에 넣어 fitting 진행.\n",
    "                        Xi = X[(y==self.classes[i]) | (y==self.classes[j])] # numpy의 boolean operator \"|\" 사용하여 multiclass분류 진행\n",
    "                        Yi = Y_hot[(y == self.classes[i]) | (y == self.classes[j]), :][:, [i,j]]\n",
    "                        svm = SVM(self.C, self.max_iter)\n",
    "                        svm.fit(Xi, np.argmax(Yi, axis=1) * 2 - 1) # class label을 -1, 1로 변경하고, vector형태로 변경한 뒤 binary SVM fitting 실시\n",
    "                        self.classifiers.append((svm, i, j))\n",
    "                        \n",
    "      def one_hot(self, y):\n",
    "            # One-hot encoding. One-vs-one approach를 위해 y를 one-hot encoding 하여 matrix형태로 만들고 필요한 class에 해당하는 행만 추출하여 사용할 수 있도록 한다.\n",
    "            Y_hot = np.zeros((len(y), self.n_classes))\n",
    "            for i, c in enumerate(self.classes):\n",
    "                  Y_hot[y == c, i] = 1\n",
    "            return Y_hot\n",
    "\n",
    "      def predict(self, X):\n",
    "            votes = np.zeros((len(X), self.n_classes))\n",
    "            # 저장해둔 모델을 통해서 prediction을 진행하고, 각 class에 voting 진행.\n",
    "            for svm, i, j in self.classifiers :\n",
    "                  pred = svm.predict(X)\n",
    "                  votes[pred == 1, i] += 1\n",
    "                  votes[pred == -1, j] += 1\n",
    "                  \n",
    "            # 최종적으로 가장 많은 vote가 있는 class로 분류\n",
    "            return self.classes[np.argmax(votes, axis=1)] "
   ]
  },
  {
   "cell_type": "code",
   "execution_count": 95,
   "metadata": {},
   "outputs": [],
   "source": [
    "import numpy as np\n",
    "from scipy.optimize import minimize\n",
    "\n",
    "class SVM:\n",
    "    def __init__(self, C=1, max_iter=1000):\n",
    "        self.C = C\n",
    "        self.max_iter = max_iter\n",
    "        self.alphas = None\n",
    "        self.support_vectors = None\n",
    "        self.support_vector_labels = None\n",
    "    \n",
    "    def kernel(self, x1, x2):\n",
    "        return np.exp(-self.gamma * np.linalg.norm(x1 - x2) ** 2)\n",
    "\n",
    "    def fit(self, X, y):\n",
    "        n, n_features = X.shape\n",
    "        \n",
    "        # gamma값의 계산. RBF kernel, gaussian kernel의 r값은 원래 1/sigma^2으로써, 그대로 이를 계산하여 사용할 수 있다.\n",
    "        # 다만 분산의 값이 작아질 수록 복잡한 decision boundary를 형성할 수 있고, 함수의 복잡도를 tuning할 수 있기 때문에 \n",
    "        # 직접 지정하도록 할 수도 있지만 parameter tuning을 진행하지 않았다.\n",
    "        self.gamma = 1 / (n_features * np.var(X))\n",
    "\n",
    "        # Objective Function의 정의. sum(α) - 0.5 * sum(i)sum(j)αi*αj*yi*yj*kernel(xi, xj)\n",
    "        # minimization problem으로 변경하기 위하여 부호를 바꾸어 표기.\n",
    "        def objective(alphas):\n",
    "            return 0.5 * np.sum(alphas * alphas * y * y[:, np.newaxis] * np.array([[self.kernel(X[i], X[j]) for j in range(n)] for i in range(n)])) - np.sum(alphas)\n",
    "       \n",
    "        # constraints : 최적화 문제에서 사용되는 제약 조건. SVM에서는 0 < sum(α) < C 이어야 한다는 제약 조건.\n",
    "        def constraint(alphas):\n",
    "            return np.sum(alphas * y)\n",
    "\n",
    "        # optimizer를 위한 bound 설정 : α값이 가질 수 있는 범위의 설정. 0부터 C까지의 범위 설정\n",
    "        # C는 Regularization cost로서 Margin의 넓이와 Margin에서 벗어나는 값들의 Penalty에 대하여 Trade-off를 조절해주는 역할을 함.\n",
    "        bounds = [(0, self.C) for i in range(n)]\n",
    "\n",
    "        # optimizer의 초기 α값 설정\n",
    "        init_guess = np.zeros(n)\n",
    "\n",
    "        # optimzer의 최대 반복 횟수 설정\n",
    "        options = {'maxiter': self.max_iter}\n",
    "        constraints = {'type': 'eq', 'fun': constraint}\n",
    "        \n",
    "        # scipy 패키지의 minimize함수 사용하여 optimization진행\n",
    "        res = minimize(objective, init_guess, bounds=bounds, constraints=constraints, options=options)\n",
    "\n",
    "        # 최적화된 alpha값을 저장.\n",
    "        self.alphas = res.x\n",
    "\n",
    "        # KKT 조건의 고려. 모든 x값에 대하여 y*(w*x+b)-1+ξ≥0, α*ξ= 0 을 만족하고, alpha값이 0과 C사이의 값을 가지도록 한다.\n",
    "        # 위 조건은 모든 x에 대하여 성립해야 하기 때문에 optimization 과정에서는 모든 x값에 대하여 alpha값을 계산한 다음\n",
    "        # KKT 조건을 만족하는 alpha값을 추려내고, support vector를 뽑아낸다.\n",
    "        # 그 다음 support vector만을 이용하여 decision boundary를 계산한다.\n",
    "        threshold = 1e-5 # threshold의 설정\n",
    "        self.support_vectors = X[self.alphas > threshold]\n",
    "        self.support_vector_labels = y[self.alphas > threshold]\n",
    "\n",
    "    def predict(self, X):\n",
    "        # 학습된 alpha값을 통해서 input data에 대한 분류 결과 return\n",
    "        predictions = []\n",
    "        for sample in X:\n",
    "            prediction = 0\n",
    "            for i in range(len(self.support_vectors)):\n",
    "                prediction += self.alphas[i] * self.support_vector_labels[i] * self.kernel(sample, self.support_vectors[i])\n",
    "            predictions.append(np.sign(prediction))\n",
    "\n",
    "        return np.array(predictions)\n",
    "\n",
    "# 본 코드는 https://hoonst.github.io/2021/01/13/SVM-KKT-Conditions/ 등 다양한 웹 포스트에서 참고한 공식들을 바탕으로 구현되었습니다.\n",
    "# 정확한 결과가 나오지 않을 수 있으며, 계산 과정에서 정확하지 않거나 구현이 잘못된 부분이 있을 수 있습니다."
   ]
  },
  {
   "cell_type": "code",
   "execution_count": null,
   "metadata": {},
   "outputs": [],
   "source": [
    "# Binary Classificaiton 작동확인 / toy dataset\n",
    "X = np.random.randn(100, 2)\n",
    "y = np.where(X[:, 0] + X[:, 1] > 0, 1, -1)\n",
    "X_tr, y_tr, X_te, Y_te = \n",
    "svm = SVM()\n",
    "svm.fit(X, y)"
   ]
  },
  {
   "cell_type": "code",
   "execution_count": null,
   "metadata": {},
   "outputs": [],
   "source": [
    "svm = Multiclass_SVM(max_iter=100)\n",
    "svm.fit(X_train_data, y_train_data)"
   ]
  },
  {
   "attachments": {},
   "cell_type": "markdown",
   "metadata": {},
   "source": [
    "## load test dataset and make answer sheet"
   ]
  },
  {
   "cell_type": "code",
   "execution_count": 13,
   "metadata": {},
   "outputs": [],
   "source": [
    "pred = svm.predict(test_data)\n",
    "ans = pd.DataFrame(pred).reset_index().rename(columns={\"index\":\"id\", 0:\"type\"})\n",
    "ans.id = ans.id + 1\n",
    "ans.to_csv(\"./answer.csv\", index=False)"
   ]
  }
 ],
 "metadata": {
  "kernelspec": {
   "display_name": "base",
   "language": "python",
   "name": "python3"
  },
  "language_info": {
   "codemirror_mode": {
    "name": "ipython",
    "version": 3
   },
   "file_extension": ".py",
   "mimetype": "text/x-python",
   "name": "python",
   "nbconvert_exporter": "python",
   "pygments_lexer": "ipython3",
   "version": "3.9.12"
  },
  "orig_nbformat": 4
 },
 "nbformat": 4,
 "nbformat_minor": 2
}
