{
 "cells": [
  {
   "cell_type": "code",
   "execution_count": 1,
   "metadata": {},
   "outputs": [],
   "source": [
    "import pandas as pd\n",
    "\n",
    "train_df = pd.read_csv(\"./titanic/train.csv\")\n",
    "test_df = pd.read_csv(\"./titanic/test.csv\")\n",
    "\n",
    "AverageAge = train_df.Age.mean()\n",
    "train_df.Age = train_df.Age.fillna(AverageAge)\n",
    "\n",
    "AverageAge = test_df.Age.mean()\n",
    "test_df.Age = test_df.Age.fillna(AverageAge)\n",
    "\n",
    "AverageFare = test_df.Fare.mean()\n",
    "test_df.Fare = test_df.Fare.fillna(AverageFare)\n",
    "\n",
    "FrequentEmbarked = train_df.Embarked.value_counts().idxmax()\n",
    "train_df.Embarked = train_df.Embarked.fillna(FrequentEmbarked)\n",
    "\n",
    "column_to_use = [\"Pclass\", \"Sex\", \"Age\", \"SibSp\", \"Parch\", \"Fare\", \"Embarked\"]\n",
    "train_x = train_df[column_to_use].copy()\n",
    "test_x = test_df[column_to_use].copy()\n",
    "\n",
    "train_x[\"Sex\"] = train_x.Sex.apply(lambda x: 0 if x==\"male\" else 1)\n",
    "test_x[\"Sex\"] = test_x.Sex.apply(lambda x: 0 if x==\"male\" else 1)\n",
    "\n",
    "Embark2Float = {\"S\":0, \"C\":1, \"Q\":2}\n",
    "train_x.Embarked = train_x.Embarked.apply(lambda x:Embark2Float[x])\n",
    "test_x.Embarked = test_x.Embarked.apply(lambda x:Embark2Float[x])\n",
    "\n",
    "from sklearn.preprocessing import StandardScaler\n",
    "ss = StandardScaler()\n",
    "train_x = ss.fit_transform(train_x)\n",
    "test_x = ss.transform(test_x)"
   ]
  },
  {
   "cell_type": "code",
   "execution_count": 2,
   "metadata": {},
   "outputs": [],
   "source": [
    "from sklearn.model_selection import train_test_split\n",
    "\n",
    "train_y = train_df.Survived\n",
    "train_x, val_x, train_y, val_y = train_test_split(train_x, train_y, test_size=0.2)\n",
    "\n",
    "train_y = train_y.to_numpy()\n",
    "val_y = val_y.to_numpy()"
   ]
  },
  {
   "cell_type": "code",
   "execution_count": 3,
   "metadata": {},
   "outputs": [
    {
     "name": "stdout",
     "output_type": "stream",
     "text": [
      "time: 0.07483196258544922\n",
      "Accuray: 0.827\n"
     ]
    }
   ],
   "source": [
    "from LR import LogisticRegression\n",
    "import time\n",
    "\n",
    "lr = LogisticRegression(max_iter=500, penalty=\"l2\", initialize = \"LeCun\")\n",
    "start = time.time()\n",
    "coef, interrupt = lr.fit(train_x, train_y)\n",
    "print(f'time: {time.time() - start}')\n",
    "print(f\"Accuray: {lr.score(val_x, val_y):.3f}\")"
   ]
  },
  {
   "cell_type": "code",
   "execution_count": 4,
   "metadata": {},
   "outputs": [
    {
     "name": "stdout",
     "output_type": "stream",
     "text": [
      "rank : #1, feature : Sex, weight : 1.9866510238255959\n",
      "rank : #2, feature : Age, weight : -1.2447335699233002\n",
      "rank : #3, feature : SibSp, weight : -0.4540855230128705\n",
      "rank : #4, feature : Embarked, weight : 0.3293972307411424\n",
      "rank : #5, feature : Pclass, weight : -0.32278862760068483\n",
      "rank : #6, feature : Parch, weight : 0.06773744739821774\n",
      "rank : #7, feature : Fare, weight : 0.02776125286372133\n"
     ]
    }
   ],
   "source": [
    "lr.feature_importance(coef, column_to_use)"
   ]
  },
  {
   "cell_type": "code",
   "execution_count": 5,
   "metadata": {},
   "outputs": [
    {
     "data": {
      "text/plain": [
       "array([-1.,  1., -1., -1.,  1.,  1.,  1.])"
      ]
     },
     "execution_count": 5,
     "metadata": {},
     "output_type": "execute_result"
    }
   ],
   "source": [
    "import numpy as np\n",
    "np.sign(lr.w)"
   ]
  },
  {
   "cell_type": "code",
   "execution_count": null,
   "metadata": {},
   "outputs": [],
   "source": []
  }
 ],
 "metadata": {
  "kernelspec": {
   "display_name": "Python 3",
   "language": "python",
   "name": "python3"
  },
  "language_info": {
   "codemirror_mode": {
    "name": "ipython",
    "version": 3
   },
   "file_extension": ".py",
   "mimetype": "text/x-python",
   "name": "python",
   "nbconvert_exporter": "python",
   "pygments_lexer": "ipython3",
   "version": "3.9.13"
  },
  "vscode": {
   "interpreter": {
    "hash": "949777d72b0d2535278d3dc13498b2535136f6dfe0678499012e853ee9abcab1"
   }
  }
 },
 "nbformat": 4,
 "nbformat_minor": 4
}
