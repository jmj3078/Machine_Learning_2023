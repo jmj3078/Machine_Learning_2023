{
  "cells": [
    {
      "cell_type": "code",
      "source": [
        "import numpy as np"
      ],
      "metadata": {
        "id": "FXsNItkJxvQN"
      },
      "execution_count": null,
      "outputs": []
    },
    {
      "cell_type": "markdown",
      "metadata": {
        "id": "Bnmw_mxegrVP"
      },
      "source": [
        "## Binary Classification\n",
        "\n",
        "- 정답 예시:\n",
        "![image.png](data:image/png;base64,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)"
      ]
    },
    {
      "cell_type": "code",
      "source": [
        "from evaluation_assign import my_evaluation_metrics\n",
        "\n",
        "y_true = np.array([1,0,0,1,0,1,1,1,1,0,0,0,0,0,1,1,1,0,0,1])\n",
        "y_pred = np.array([0,0,0,1,1,1,0,0,0,1,1,0,0,0,0,1,0,1,1,0])\n",
        "\n",
        "em = my_evaluation_metrics()\n",
        "\n",
        "acc = em.my_accuracy(y_true, y_pred)\n",
        "print(\"The accuracy is {:.2f}\\n\".format(acc))\n",
        "\n",
        "recall = em.my_recall(y_true, y_pred)\n",
        "print(\"The recall is {:.2f}\\n\".format(recall))\n",
        "\n",
        "precision = em.my_precision(y_true, y_pred)\n",
        "print(\"The precision is {:.2f}\\n\".format(precision))\n",
        "\n",
        "f1 = em.my_f1(y_true, y_pred)\n",
        "print(\"The f1 score is {:.2f}\\n\".format(f1))\n",
        "\n",
        "print(\"The confusion matrix:\")\n",
        "print(em.my_confusion_matrix(y_true, y_pred))"
      ],
      "metadata": {
        "colab": {
          "base_uri": "https://localhost:8080/"
        },
        "id": "HCOh_1WuhHNQ",
        "outputId": "5c2e8abc-36b8-4da7-d63a-2e1dad669e74"
      },
      "execution_count": null,
      "outputs": [
        {
          "output_type": "stream",
          "name": "stdout",
          "text": [
            "The accuracy is 0.40\n",
            "\n",
            "The recall is 0.30\n",
            "\n",
            "The precision is 0.38\n",
            "\n",
            "The f1 score is 0.33\n",
            "\n",
            "The confusion matrix:\n",
            "[[5 5]\n",
            " [7 3]]\n"
          ]
        }
      ]
    },
    {
      "cell_type": "code",
      "source": [],
      "metadata": {
        "id": "fR0dZxzr4Ehu"
      },
      "execution_count": null,
      "outputs": []
    },
    {
      "cell_type": "markdown",
      "source": [
        "## TF-IDF\n",
        "\n",
        "- 정답 예시: ![image.png](data:image/png;base64,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)"
      ],
      "metadata": {
        "id": "-QIOAzvLzvXv"
      }
    },
    {
      "cell_type": "code",
      "source": [
        "from evaluation_assign import my_evaluation_metrics\n",
        "\n",
        "documents = ['car car car train train train train', 'car car car train train train cookie',\n",
        "             'car train coffee coffee coffee coffee coffee coffee coffee cookie cookie cookie cookie cookie cookie']\n",
        "\n",
        "em = my_evaluation_metrics()\n",
        "tf_idf = em.my_tf_idf(documents)"
      ],
      "metadata": {
        "id": "fvleIBwyuEeD"
      },
      "execution_count": null,
      "outputs": []
    },
    {
      "cell_type": "code",
      "source": [
        "tf_idf"
      ],
      "metadata": {
        "colab": {
          "base_uri": "https://localhost:8080/"
        },
        "id": "9kpOhFko0SZc",
        "outputId": "0114ab4c-0391-4719-cd80-9fb1e3e8e457"
      },
      "execution_count": null,
      "outputs": [
        {
          "output_type": "execute_result",
          "data": {
            "text/plain": [
              "array([[-0.86304622, -1.15072829,  0.        ,  0.        ],\n",
              "       [-0.86304622, -0.86304622,  0.        ,  0.        ],\n",
              "       [-0.28768207, -0.28768207,  0.        ,  2.83825576]])"
            ]
          },
          "metadata": {},
          "execution_count": 18
        }
      ]
    },
    {
      "cell_type": "code",
      "source": [],
      "metadata": {
        "id": "R5S_YmYU0w4q"
      },
      "execution_count": null,
      "outputs": []
    }
  ],
  "metadata": {
    "colab": {
      "provenance": []
    },
    "kernelspec": {
      "display_name": "Python 3.7.9 64-bit",
      "language": "python",
      "name": "python3"
    },
    "language_info": {
      "codemirror_mode": {
        "name": "ipython",
        "version": 3
      },
      "file_extension": ".py",
      "mimetype": "text/x-python",
      "name": "python",
      "nbconvert_exporter": "python",
      "pygments_lexer": "ipython3",
      "version": "3.7.9"
    },
    "orig_nbformat": 4,
    "vscode": {
      "interpreter": {
        "hash": "949777d72b0d2535278d3dc13498b2535136f6dfe0678499012e853ee9abcab1"
      }
    }
  },
  "nbformat": 4,
  "nbformat_minor": 0
}